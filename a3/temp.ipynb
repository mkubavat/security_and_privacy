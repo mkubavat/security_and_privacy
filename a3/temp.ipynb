{
 "cells": [
  {
   "cell_type": "code",
   "execution_count": 11,
   "metadata": {},
   "outputs": [],
   "source": [
    "from stem import Signal\n",
    "from stem.control import Controller\n",
    "import requests\n",
    "from stem.descriptor.remote import DescriptorDownloader\n",
    "import random\n",
    "import time"
   ]
  },
  {
   "cell_type": "code",
   "execution_count": 12,
   "metadata": {},
   "outputs": [],
   "source": [
    "# Connect to the Tor process on the default port (9051)\n",
    "controller = Controller.from_port(port=9051)\n",
    "\n",
    "controller.authenticate(password='mKubavat1234')  # default password might be required if set"
   ]
  },
  {
   "cell_type": "code",
   "execution_count": 13,
   "metadata": {},
   "outputs": [],
   "source": [
    "downloader = DescriptorDownloader()\n",
    "\n",
    "try:\n",
    "    consensus = downloader.get_consensus().run()\n",
    "    all_relays = [relay for relay in consensus if 'Fast' and relay.flags and 'Running' in relay.flags]\n",
    "finally:\n",
    "    controller.close()"
   ]
  },
  {
   "cell_type": "code",
   "execution_count": 14,
   "metadata": {},
   "outputs": [
    {
     "name": "stdout",
     "output_type": "stream",
     "text": [
      "Circuit established: 22\n"
     ]
    }
   ],
   "source": [
    "import random\n",
    "from stem.control import Controller\n",
    "from stem.descriptor.remote import DescriptorDownloader\n",
    "\n",
    "# Establish a persistent Tor control connection\n",
    "with Controller.from_port(port=9051) as controller:\n",
    "    controller.authenticate(password='mKubavat1234')  # Use the correct password\n",
    "\n",
    "    # Initialize DescriptorDownloader\n",
    "    downloader = DescriptorDownloader()\n",
    "    \n",
    "    try:\n",
    "        consensus = downloader.get_consensus().run()\n",
    "        all_relays = [relay for relay in consensus if 'Fast' in relay.flags and 'Running' in relay.flags]\n",
    "\n",
    "        def select_relay(relays):\n",
    "            chosen = random.choice(relays)\n",
    "            subnet = '.'.join(chosen.address.split('.')[:2])\n",
    "            return chosen, subnet\n",
    "\n",
    "        first, first_subnet = select_relay(all_relays)\n",
    "        remaining_relays = [r for r in all_relays if not r.address.startswith(first_subnet)]\n",
    "        second, second_subnet = select_relay(remaining_relays)\n",
    "        remaining_relays = [r for r in remaining_relays if not r.address.startswith(second_subnet)]\n",
    "        third, _ = select_relay(remaining_relays)\n",
    "\n",
    "        # Attempt to build a circuit\n",
    "        circuit_id = controller.new_circuit([first.fingerprint, second.fingerprint, third.fingerprint], await_build=True, timeout=240)\n",
    "        print(\"Circuit established:\", circuit_id)\n",
    "\n",
    "    except Exception as e:\n",
    "        print(\"An error occurred:\", e)\n",
    "    finally:\n",
    "        controller.close()\n"
   ]
  },
  {
   "cell_type": "code",
   "execution_count": 15,
   "metadata": {},
   "outputs": [
    {
     "name": "stdout",
     "output_type": "stream",
     "text": [
      "Page loaded in 1.0690104961395264 seconds\n"
     ]
    }
   ],
   "source": [
    "def request(url):\n",
    "    proxies = {\n",
    "        'http': 'socks5h://127.0.0.1:9050',\n",
    "        'https': 'socks5h://127.0.0.1:9050'\n",
    "    }\n",
    "    response = requests.get(url, proxies=proxies)\n",
    "    return response\n",
    "\n",
    "start_time = time.time()\n",
    "response = request('http://google.com')\n",
    "elapsed_time = time.time() - start_time\n",
    "print(f\"Page loaded in {elapsed_time} seconds\")"
   ]
  }
 ],
 "metadata": {
  "kernelspec": {
   "display_name": "Python 3",
   "language": "python",
   "name": "python3"
  },
  "language_info": {
   "codemirror_mode": {
    "name": "ipython",
    "version": 3
   },
   "file_extension": ".py",
   "mimetype": "text/x-python",
   "name": "python",
   "nbconvert_exporter": "python",
   "pygments_lexer": "ipython3",
   "version": "3.10.12"
  }
 },
 "nbformat": 4,
 "nbformat_minor": 2
}
